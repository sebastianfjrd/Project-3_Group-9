{
 "cells": [
  {
   "cell_type": "markdown",
   "metadata": {
    "id": "2yG_uINeMDKO"
   },
   "source": [
    "# CNN Model (in Colab)\n",
    "- Read pickle files\n",
    "- Build CNN model\n",
    "- Optimize model\n",
    "- Save model\n",
    "- Plots"
   ]
  },
  {
   "cell_type": "code",
   "execution_count": 45,
   "metadata": {
    "executionInfo": {
     "elapsed": 232,
     "status": "ok",
     "timestamp": 1723856148983,
     "user": {
      "displayName": "ghosalli@ymail.com",
      "userId": "06654975647961110478"
     },
     "user_tz": 240
    },
    "id": "ohruHMizkxQ-"
   },
   "outputs": [],
   "source": [
    "import pickle\n",
    "import tensorflow as tf\n",
    "from tensorflow import keras\n",
    "from tensorflow.keras import layers\n",
    "from tensorflow.keras.optimizers import Adam\n",
    "import numpy as np\n",
    "from keras.utils import to_categorical\n",
    "from tensorflow.keras.layers import BatchNormalization\n",
    "from tensorflow.keras.layers import Flatten\n",
    "import matplotlib.pyplot as plt\n",
    "from sklearn.metrics import accuracy_score, precision_score, recall_score, f1_score\n",
    "from sklearn.metrics import roc_auc_score, confusion_matrix, classification_report\n",
    "from sklearn.metrics import roc_curve\n",
    "import matplotlib.pyplot as plt\n",
    "from sklearn.metrics import precision_recall_curve\n"
   ]
  },
  {
   "cell_type": "code",
   "execution_count": 2,
   "metadata": {
    "colab": {
     "base_uri": "https://localhost:8080/"
    },
    "executionInfo": {
     "elapsed": 19557,
     "status": "ok",
     "timestamp": 1723852834441,
     "user": {
      "displayName": "ghosalli@ymail.com",
      "userId": "06654975647961110478"
     },
     "user_tz": 240
    },
    "id": "_ZotML8Po63d",
    "outputId": "98568596-e274-401c-e5b5-8e00447e3254"
   },
   "outputs": [
    {
     "name": "stdout",
     "output_type": "stream",
     "text": [
      "Mounted at /content/drive\n"
     ]
    }
   ],
   "source": [
    "# Read pickle file on google's My Drive/pickles\n",
    "from google.colab import drive\n",
    "drive.mount('/content/drive')"
   ]
  },
  {
   "cell_type": "code",
   "execution_count": 3,
   "metadata": {
    "colab": {
     "base_uri": "https://localhost:8080/"
    },
    "executionInfo": {
     "elapsed": 203,
     "status": "ok",
     "timestamp": 1723852839141,
     "user": {
      "displayName": "ghosalli@ymail.com",
      "userId": "06654975647961110478"
     },
     "user_tz": 240
    },
    "id": "YTlikYdbq-Y9",
    "outputId": "59ee38cd-90f9-4ef4-9027-5748f8fc581c"
   },
   "outputs": [
    {
     "name": "stdout",
     "output_type": "stream",
     "text": [
      "melanoma.pkl  X_test.pkl  X_train.pkl  X_val.pkl  y_test.pkl  y_train.pkl  y_val.pkl\n"
     ]
    }
   ],
   "source": [
    "# Try listing the contents of the directory to check if the file exists\n",
    "!ls \"/content/drive/My Drive/pickles/\"\n"
   ]
  },
  {
   "cell_type": "code",
   "execution_count": 4,
   "metadata": {
    "executionInfo": {
     "elapsed": 174064,
     "status": "ok",
     "timestamp": 1723853016853,
     "user": {
      "displayName": "ghosalli@ymail.com",
      "userId": "06654975647961110478"
     },
     "user_tz": 240
    },
    "id": "CkI7u96Tmw_I"
   },
   "outputs": [],
   "source": [
    "# Load the images from the pkl file\n",
    "# X_train\n",
    "with open('/content/drive/My Drive/pickles/X_train.pkl', 'rb') as file:\n",
    "# with open('pickles/X_train.pkl', 'rb') as file:\n",
    "    X_train = pickle.load(file)\n",
    "#X_val\n",
    "with open('/content/drive/My Drive/pickles/X_val.pkl', 'rb') as file:\n",
    "# with open('pickles/X_val.pkl', 'rb') as file:\n",
    "    X_val = pickle.load(file)\n",
    "#X_test\n",
    "with open('/content/drive/My Drive/pickles/X_test.pkl', 'rb') as file:\n",
    "# with open('pickles/X_test.pkl', 'rb') as file:\n",
    "    X_test = pickle.load(file)"
   ]
  },
  {
   "cell_type": "code",
   "execution_count": 5,
   "metadata": {
    "executionInfo": {
     "elapsed": 1577,
     "status": "ok",
     "timestamp": 1723853030814,
     "user": {
      "displayName": "ghosalli@ymail.com",
      "userId": "06654975647961110478"
     },
     "user_tz": 240
    },
    "id": "R8IbFYGdnf7H"
   },
   "outputs": [],
   "source": [
    "# Open Label Files\n",
    "# y_train\n",
    "with open('/content/drive/My Drive/pickles/y_train.pkl', 'rb') as file:\n",
    "#with open('pickles/y_train.pkl', 'rb') as file:\n",
    "    y_train = pickle.load(file)\n",
    "# y_val\n",
    "with open('/content/drive/My Drive/pickles/y_val.pkl', 'rb') as file:\n",
    "#with open('pickles/y_val.pkl', 'rb') as file:\n",
    "    y_val = pickle.load(file)\n",
    "# y_test\n",
    "with open('/content/drive/My Drive/pickles/y_test.pkl', 'rb') as file:\n",
    "#with open('pickles/y_test.pkl', 'rb') as file:\n",
    "    y_test = pickle.load(file)"
   ]
  },
  {
   "cell_type": "code",
   "execution_count": 6,
   "metadata": {
    "colab": {
     "base_uri": "https://localhost:8080/"
    },
    "executionInfo": {
     "elapsed": 214,
     "status": "ok",
     "timestamp": 1723853035869,
     "user": {
      "displayName": "ghosalli@ymail.com",
      "userId": "06654975647961110478"
     },
     "user_tz": 240
    },
    "id": "C9oqJAiY0HLu",
    "outputId": "ca48bc33-a1bf-474f-efeb-528e5b831718"
   },
   "outputs": [
    {
     "name": "stdout",
     "output_type": "stream",
     "text": [
      "X_train shape: (6682, 300, 300, 3)\n",
      "X_val shape  : (1671, 300, 300, 3)\n",
      "X_test shape : (2652, 300, 300, 3)\n",
      "y_train shape: (6682,)\n",
      "y_val shape  : (1671,)\n",
      "y_test shape : (2652,)\n"
     ]
    }
   ],
   "source": [
    "print(\"X_train shape:\", X_train.shape)\n",
    "print(\"X_val shape  :\", X_val.shape)\n",
    "print(\"X_test shape :\", X_test.shape)\n",
    "print(\"y_train shape:\", y_train.shape)\n",
    "print(\"y_val shape  :\", y_val.shape)\n",
    "print(\"y_test shape :\", y_test.shape)"
   ]
  },
  {
   "cell_type": "code",
   "execution_count": 7,
   "metadata": {
    "executionInfo": {
     "elapsed": 213,
     "status": "ok",
     "timestamp": 1723853044310,
     "user": {
      "displayName": "ghosalli@ymail.com",
      "userId": "06654975647961110478"
     },
     "user_tz": 240
    },
    "id": "uCePLjqa0Ves"
   },
   "outputs": [],
   "source": [
    "# Convert labels to one-hot encoded format\n",
    "y_train = to_categorical(y_train, num_classes=2)\n",
    "y_val = to_categorical(y_val, num_classes=2)\n",
    "y_test = to_categorical(y_test, num_classes=2)"
   ]
  },
  {
   "cell_type": "code",
   "execution_count": 8,
   "metadata": {
    "colab": {
     "base_uri": "https://localhost:8080/"
    },
    "executionInfo": {
     "elapsed": 217,
     "status": "ok",
     "timestamp": 1723853048595,
     "user": {
      "displayName": "ghosalli@ymail.com",
      "userId": "06654975647961110478"
     },
     "user_tz": 240
    },
    "id": "uIP_-veS0pcp",
    "outputId": "2b73a9cf-53a3-4c93-8fb7-74ad10ec7429"
   },
   "outputs": [
    {
     "name": "stdout",
     "output_type": "stream",
     "text": [
      "(6682, 2)\n",
      "(1671, 2)\n",
      "(2652, 2)\n"
     ]
    }
   ],
   "source": [
    "print(y_train.shape)\n",
    "print(y_val.shape)\n",
    "print(y_test.shape)"
   ]
  },
  {
   "cell_type": "markdown",
   "metadata": {
    "id": "q2Liig9Il032"
   },
   "source": [
    "## Build CNN Model"
   ]
  },
  {
   "cell_type": "code",
   "execution_count": 69,
   "metadata": {
    "executionInfo": {
     "elapsed": 206,
     "status": "ok",
     "timestamp": 1723859444201,
     "user": {
      "displayName": "ghosalli@ymail.com",
      "userId": "06654975647961110478"
     },
     "user_tz": 240
    },
    "id": "7pP0IAzw9Qab"
   },
   "outputs": [],
   "source": [
    "# Build CNN model\n",
    "def cnn_model():\n",
    "  model= tf.keras.models.Sequential()\n",
    "  model.add(layers.Input((300, 300, 3)))\n",
    "  model.add(layers.Conv2D(32, (3, 3), activation='relu', padding='same'))\n",
    "  model.add(BatchNormalization())\n",
    "  model.add(layers.MaxPooling2D((2, 2)))\n",
    "  # model.add(Dropout(0.25))\n",
    "\n",
    "  model.add(layers.Conv2D(64, (3, 3), activation='relu', padding='same'))\n",
    "  model.add(BatchNormalization())\n",
    "  model.add(layers.MaxPooling2D((2, 2)))\n",
    "\n",
    "  model.add(layers.Conv2D(64, (3, 3), activation='relu', padding='same'))\n",
    "  model.add(BatchNormalization())\n",
    "  model.add(layers.MaxPooling2D((2, 2)))\n",
    "\n",
    "  model.add(layers.Conv2D(128, (3, 3), activation='relu', padding='same'))\n",
    "  model.add(BatchNormalization())\n",
    "  model.add(layers.MaxPooling2D((2, 2)))\n",
    "\n",
    "  model.add(Flatten())\n",
    "  model.add(layers.Dense(128, activation='relu'))\n",
    "  model.add(layers.Dense(2, activation='softmax'))\n",
    "  # model.add(BatchNormalization())\n",
    "  # model.add(Dropout(0.25))\n",
    "\n",
    "  return model"
   ]
  },
  {
   "cell_type": "code",
   "execution_count": 70,
   "metadata": {
    "executionInfo": {
     "elapsed": 234,
     "status": "ok",
     "timestamp": 1723859446697,
     "user": {
      "displayName": "ghosalli@ymail.com",
      "userId": "06654975647961110478"
     },
     "user_tz": 240
    },
    "id": "Hi3GujRuCWZ-"
   },
   "outputs": [],
   "source": [
    "# Instantiate model\n",
    "model = cnn_model()"
   ]
  },
  {
   "cell_type": "code",
   "execution_count": null,
   "metadata": {
    "id": "YyO7yZhQ9zN1"
   },
   "outputs": [],
   "source": [
    "# Define a CNN model\n",
    "# model = keras.Sequential([\n",
    "#    layers.Input((300, 300, 3)),\n",
    "#    layers.Conv2D(32, (3, 3), activation='relu', padding='same'),\n",
    "#    layers.MaxPooling2D((2, 2)),\n",
    "#    layers.Conv2D(64, (3, 3), activation='relu', padding='same'),\n",
    "#    layers.MaxPooling2D((2, 2)),\n",
    "#    layers.Conv2D(64, (3, 3), activation='relu', padding='same'),\n",
    "#    layers.MaxPooling2D((2, 2)),\n",
    "#    layers.Conv2D(128, (3, 3), activation='relu', padding='same'),\n",
    "#    layers.MaxPooling2D((2, 2)),\n",
    "#    layers.Flatten(),\n",
    "#    layers.Dense(128, activation='relu'),\n",
    "#    layers.Dense(2, activation='sigmoid')\n",
    "#])"
   ]
  },
  {
   "cell_type": "code",
   "execution_count": 71,
   "metadata": {
    "colab": {
     "base_uri": "https://localhost:8080/",
     "height": 693
    },
    "executionInfo": {
     "elapsed": 202,
     "status": "ok",
     "timestamp": 1723859485708,
     "user": {
      "displayName": "ghosalli@ymail.com",
      "userId": "06654975647961110478"
     },
     "user_tz": 240
    },
    "id": "v1_lD2jh3_GF",
    "outputId": "2ca3beff-f692-4c83-f176-8c81adfaaf3f"
   },
   "outputs": [
    {
     "data": {
      "text/html": [
       "<pre style=\"white-space:pre;overflow-x:auto;line-height:normal;font-family:Menlo,'DejaVu Sans Mono',consolas,'Courier New',monospace\"><span style=\"font-weight: bold\">Model: \"sequential_4\"</span>\n",
       "</pre>\n"
      ],
      "text/plain": [
       "\u001b[1mModel: \"sequential_4\"\u001b[0m\n"
      ]
     },
     "metadata": {},
     "output_type": "display_data"
    },
    {
     "data": {
      "text/html": [
       "<pre style=\"white-space:pre;overflow-x:auto;line-height:normal;font-family:Menlo,'DejaVu Sans Mono',consolas,'Courier New',monospace\">┏━━━━━━━━━━━━━━━━━━━━━━━━━━━━━━━━━━━━━━┳━━━━━━━━━━━━━━━━━━━━━━━━━━━━━┳━━━━━━━━━━━━━━━━━┓\n",
       "┃<span style=\"font-weight: bold\"> Layer (type)                         </span>┃<span style=\"font-weight: bold\"> Output Shape                </span>┃<span style=\"font-weight: bold\">         Param # </span>┃\n",
       "┡━━━━━━━━━━━━━━━━━━━━━━━━━━━━━━━━━━━━━━╇━━━━━━━━━━━━━━━━━━━━━━━━━━━━━╇━━━━━━━━━━━━━━━━━┩\n",
       "│ conv2d_16 (<span style=\"color: #0087ff; text-decoration-color: #0087ff\">Conv2D</span>)                   │ (<span style=\"color: #00d7ff; text-decoration-color: #00d7ff\">None</span>, <span style=\"color: #00af00; text-decoration-color: #00af00\">300</span>, <span style=\"color: #00af00; text-decoration-color: #00af00\">300</span>, <span style=\"color: #00af00; text-decoration-color: #00af00\">32</span>)        │             <span style=\"color: #00af00; text-decoration-color: #00af00\">896</span> │\n",
       "├──────────────────────────────────────┼─────────────────────────────┼─────────────────┤\n",
       "│ batch_normalization_16               │ (<span style=\"color: #00d7ff; text-decoration-color: #00d7ff\">None</span>, <span style=\"color: #00af00; text-decoration-color: #00af00\">300</span>, <span style=\"color: #00af00; text-decoration-color: #00af00\">300</span>, <span style=\"color: #00af00; text-decoration-color: #00af00\">32</span>)        │             <span style=\"color: #00af00; text-decoration-color: #00af00\">128</span> │\n",
       "│ (<span style=\"color: #0087ff; text-decoration-color: #0087ff\">BatchNormalization</span>)                 │                             │                 │\n",
       "├──────────────────────────────────────┼─────────────────────────────┼─────────────────┤\n",
       "│ max_pooling2d_16 (<span style=\"color: #0087ff; text-decoration-color: #0087ff\">MaxPooling2D</span>)      │ (<span style=\"color: #00d7ff; text-decoration-color: #00d7ff\">None</span>, <span style=\"color: #00af00; text-decoration-color: #00af00\">150</span>, <span style=\"color: #00af00; text-decoration-color: #00af00\">150</span>, <span style=\"color: #00af00; text-decoration-color: #00af00\">32</span>)        │               <span style=\"color: #00af00; text-decoration-color: #00af00\">0</span> │\n",
       "├──────────────────────────────────────┼─────────────────────────────┼─────────────────┤\n",
       "│ conv2d_17 (<span style=\"color: #0087ff; text-decoration-color: #0087ff\">Conv2D</span>)                   │ (<span style=\"color: #00d7ff; text-decoration-color: #00d7ff\">None</span>, <span style=\"color: #00af00; text-decoration-color: #00af00\">150</span>, <span style=\"color: #00af00; text-decoration-color: #00af00\">150</span>, <span style=\"color: #00af00; text-decoration-color: #00af00\">64</span>)        │          <span style=\"color: #00af00; text-decoration-color: #00af00\">18,496</span> │\n",
       "├──────────────────────────────────────┼─────────────────────────────┼─────────────────┤\n",
       "│ batch_normalization_17               │ (<span style=\"color: #00d7ff; text-decoration-color: #00d7ff\">None</span>, <span style=\"color: #00af00; text-decoration-color: #00af00\">150</span>, <span style=\"color: #00af00; text-decoration-color: #00af00\">150</span>, <span style=\"color: #00af00; text-decoration-color: #00af00\">64</span>)        │             <span style=\"color: #00af00; text-decoration-color: #00af00\">256</span> │\n",
       "│ (<span style=\"color: #0087ff; text-decoration-color: #0087ff\">BatchNormalization</span>)                 │                             │                 │\n",
       "├──────────────────────────────────────┼─────────────────────────────┼─────────────────┤\n",
       "│ max_pooling2d_17 (<span style=\"color: #0087ff; text-decoration-color: #0087ff\">MaxPooling2D</span>)      │ (<span style=\"color: #00d7ff; text-decoration-color: #00d7ff\">None</span>, <span style=\"color: #00af00; text-decoration-color: #00af00\">75</span>, <span style=\"color: #00af00; text-decoration-color: #00af00\">75</span>, <span style=\"color: #00af00; text-decoration-color: #00af00\">64</span>)          │               <span style=\"color: #00af00; text-decoration-color: #00af00\">0</span> │\n",
       "├──────────────────────────────────────┼─────────────────────────────┼─────────────────┤\n",
       "│ conv2d_18 (<span style=\"color: #0087ff; text-decoration-color: #0087ff\">Conv2D</span>)                   │ (<span style=\"color: #00d7ff; text-decoration-color: #00d7ff\">None</span>, <span style=\"color: #00af00; text-decoration-color: #00af00\">75</span>, <span style=\"color: #00af00; text-decoration-color: #00af00\">75</span>, <span style=\"color: #00af00; text-decoration-color: #00af00\">64</span>)          │          <span style=\"color: #00af00; text-decoration-color: #00af00\">36,928</span> │\n",
       "├──────────────────────────────────────┼─────────────────────────────┼─────────────────┤\n",
       "│ batch_normalization_18               │ (<span style=\"color: #00d7ff; text-decoration-color: #00d7ff\">None</span>, <span style=\"color: #00af00; text-decoration-color: #00af00\">75</span>, <span style=\"color: #00af00; text-decoration-color: #00af00\">75</span>, <span style=\"color: #00af00; text-decoration-color: #00af00\">64</span>)          │             <span style=\"color: #00af00; text-decoration-color: #00af00\">256</span> │\n",
       "│ (<span style=\"color: #0087ff; text-decoration-color: #0087ff\">BatchNormalization</span>)                 │                             │                 │\n",
       "├──────────────────────────────────────┼─────────────────────────────┼─────────────────┤\n",
       "│ max_pooling2d_18 (<span style=\"color: #0087ff; text-decoration-color: #0087ff\">MaxPooling2D</span>)      │ (<span style=\"color: #00d7ff; text-decoration-color: #00d7ff\">None</span>, <span style=\"color: #00af00; text-decoration-color: #00af00\">37</span>, <span style=\"color: #00af00; text-decoration-color: #00af00\">37</span>, <span style=\"color: #00af00; text-decoration-color: #00af00\">64</span>)          │               <span style=\"color: #00af00; text-decoration-color: #00af00\">0</span> │\n",
       "├──────────────────────────────────────┼─────────────────────────────┼─────────────────┤\n",
       "│ conv2d_19 (<span style=\"color: #0087ff; text-decoration-color: #0087ff\">Conv2D</span>)                   │ (<span style=\"color: #00d7ff; text-decoration-color: #00d7ff\">None</span>, <span style=\"color: #00af00; text-decoration-color: #00af00\">37</span>, <span style=\"color: #00af00; text-decoration-color: #00af00\">37</span>, <span style=\"color: #00af00; text-decoration-color: #00af00\">128</span>)         │          <span style=\"color: #00af00; text-decoration-color: #00af00\">73,856</span> │\n",
       "├──────────────────────────────────────┼─────────────────────────────┼─────────────────┤\n",
       "│ batch_normalization_19               │ (<span style=\"color: #00d7ff; text-decoration-color: #00d7ff\">None</span>, <span style=\"color: #00af00; text-decoration-color: #00af00\">37</span>, <span style=\"color: #00af00; text-decoration-color: #00af00\">37</span>, <span style=\"color: #00af00; text-decoration-color: #00af00\">128</span>)         │             <span style=\"color: #00af00; text-decoration-color: #00af00\">512</span> │\n",
       "│ (<span style=\"color: #0087ff; text-decoration-color: #0087ff\">BatchNormalization</span>)                 │                             │                 │\n",
       "├──────────────────────────────────────┼─────────────────────────────┼─────────────────┤\n",
       "│ max_pooling2d_19 (<span style=\"color: #0087ff; text-decoration-color: #0087ff\">MaxPooling2D</span>)      │ (<span style=\"color: #00d7ff; text-decoration-color: #00d7ff\">None</span>, <span style=\"color: #00af00; text-decoration-color: #00af00\">18</span>, <span style=\"color: #00af00; text-decoration-color: #00af00\">18</span>, <span style=\"color: #00af00; text-decoration-color: #00af00\">128</span>)         │               <span style=\"color: #00af00; text-decoration-color: #00af00\">0</span> │\n",
       "├──────────────────────────────────────┼─────────────────────────────┼─────────────────┤\n",
       "│ flatten_4 (<span style=\"color: #0087ff; text-decoration-color: #0087ff\">Flatten</span>)                  │ (<span style=\"color: #00d7ff; text-decoration-color: #00d7ff\">None</span>, <span style=\"color: #00af00; text-decoration-color: #00af00\">41472</span>)               │               <span style=\"color: #00af00; text-decoration-color: #00af00\">0</span> │\n",
       "├──────────────────────────────────────┼─────────────────────────────┼─────────────────┤\n",
       "│ dense_8 (<span style=\"color: #0087ff; text-decoration-color: #0087ff\">Dense</span>)                      │ (<span style=\"color: #00d7ff; text-decoration-color: #00d7ff\">None</span>, <span style=\"color: #00af00; text-decoration-color: #00af00\">128</span>)                 │       <span style=\"color: #00af00; text-decoration-color: #00af00\">5,308,544</span> │\n",
       "├──────────────────────────────────────┼─────────────────────────────┼─────────────────┤\n",
       "│ dense_9 (<span style=\"color: #0087ff; text-decoration-color: #0087ff\">Dense</span>)                      │ (<span style=\"color: #00d7ff; text-decoration-color: #00d7ff\">None</span>, <span style=\"color: #00af00; text-decoration-color: #00af00\">2</span>)                   │             <span style=\"color: #00af00; text-decoration-color: #00af00\">258</span> │\n",
       "└──────────────────────────────────────┴─────────────────────────────┴─────────────────┘\n",
       "</pre>\n"
      ],
      "text/plain": [
       "┏━━━━━━━━━━━━━━━━━━━━━━━━━━━━━━━━━━━━━━┳━━━━━━━━━━━━━━━━━━━━━━━━━━━━━┳━━━━━━━━━━━━━━━━━┓\n",
       "┃\u001b[1m \u001b[0m\u001b[1mLayer (type)                        \u001b[0m\u001b[1m \u001b[0m┃\u001b[1m \u001b[0m\u001b[1mOutput Shape               \u001b[0m\u001b[1m \u001b[0m┃\u001b[1m \u001b[0m\u001b[1m        Param #\u001b[0m\u001b[1m \u001b[0m┃\n",
       "┡━━━━━━━━━━━━━━━━━━━━━━━━━━━━━━━━━━━━━━╇━━━━━━━━━━━━━━━━━━━━━━━━━━━━━╇━━━━━━━━━━━━━━━━━┩\n",
       "│ conv2d_16 (\u001b[38;5;33mConv2D\u001b[0m)                   │ (\u001b[38;5;45mNone\u001b[0m, \u001b[38;5;34m300\u001b[0m, \u001b[38;5;34m300\u001b[0m, \u001b[38;5;34m32\u001b[0m)        │             \u001b[38;5;34m896\u001b[0m │\n",
       "├──────────────────────────────────────┼─────────────────────────────┼─────────────────┤\n",
       "│ batch_normalization_16               │ (\u001b[38;5;45mNone\u001b[0m, \u001b[38;5;34m300\u001b[0m, \u001b[38;5;34m300\u001b[0m, \u001b[38;5;34m32\u001b[0m)        │             \u001b[38;5;34m128\u001b[0m │\n",
       "│ (\u001b[38;5;33mBatchNormalization\u001b[0m)                 │                             │                 │\n",
       "├──────────────────────────────────────┼─────────────────────────────┼─────────────────┤\n",
       "│ max_pooling2d_16 (\u001b[38;5;33mMaxPooling2D\u001b[0m)      │ (\u001b[38;5;45mNone\u001b[0m, \u001b[38;5;34m150\u001b[0m, \u001b[38;5;34m150\u001b[0m, \u001b[38;5;34m32\u001b[0m)        │               \u001b[38;5;34m0\u001b[0m │\n",
       "├──────────────────────────────────────┼─────────────────────────────┼─────────────────┤\n",
       "│ conv2d_17 (\u001b[38;5;33mConv2D\u001b[0m)                   │ (\u001b[38;5;45mNone\u001b[0m, \u001b[38;5;34m150\u001b[0m, \u001b[38;5;34m150\u001b[0m, \u001b[38;5;34m64\u001b[0m)        │          \u001b[38;5;34m18,496\u001b[0m │\n",
       "├──────────────────────────────────────┼─────────────────────────────┼─────────────────┤\n",
       "│ batch_normalization_17               │ (\u001b[38;5;45mNone\u001b[0m, \u001b[38;5;34m150\u001b[0m, \u001b[38;5;34m150\u001b[0m, \u001b[38;5;34m64\u001b[0m)        │             \u001b[38;5;34m256\u001b[0m │\n",
       "│ (\u001b[38;5;33mBatchNormalization\u001b[0m)                 │                             │                 │\n",
       "├──────────────────────────────────────┼─────────────────────────────┼─────────────────┤\n",
       "│ max_pooling2d_17 (\u001b[38;5;33mMaxPooling2D\u001b[0m)      │ (\u001b[38;5;45mNone\u001b[0m, \u001b[38;5;34m75\u001b[0m, \u001b[38;5;34m75\u001b[0m, \u001b[38;5;34m64\u001b[0m)          │               \u001b[38;5;34m0\u001b[0m │\n",
       "├──────────────────────────────────────┼─────────────────────────────┼─────────────────┤\n",
       "│ conv2d_18 (\u001b[38;5;33mConv2D\u001b[0m)                   │ (\u001b[38;5;45mNone\u001b[0m, \u001b[38;5;34m75\u001b[0m, \u001b[38;5;34m75\u001b[0m, \u001b[38;5;34m64\u001b[0m)          │          \u001b[38;5;34m36,928\u001b[0m │\n",
       "├──────────────────────────────────────┼─────────────────────────────┼─────────────────┤\n",
       "│ batch_normalization_18               │ (\u001b[38;5;45mNone\u001b[0m, \u001b[38;5;34m75\u001b[0m, \u001b[38;5;34m75\u001b[0m, \u001b[38;5;34m64\u001b[0m)          │             \u001b[38;5;34m256\u001b[0m │\n",
       "│ (\u001b[38;5;33mBatchNormalization\u001b[0m)                 │                             │                 │\n",
       "├──────────────────────────────────────┼─────────────────────────────┼─────────────────┤\n",
       "│ max_pooling2d_18 (\u001b[38;5;33mMaxPooling2D\u001b[0m)      │ (\u001b[38;5;45mNone\u001b[0m, \u001b[38;5;34m37\u001b[0m, \u001b[38;5;34m37\u001b[0m, \u001b[38;5;34m64\u001b[0m)          │               \u001b[38;5;34m0\u001b[0m │\n",
       "├──────────────────────────────────────┼─────────────────────────────┼─────────────────┤\n",
       "│ conv2d_19 (\u001b[38;5;33mConv2D\u001b[0m)                   │ (\u001b[38;5;45mNone\u001b[0m, \u001b[38;5;34m37\u001b[0m, \u001b[38;5;34m37\u001b[0m, \u001b[38;5;34m128\u001b[0m)         │          \u001b[38;5;34m73,856\u001b[0m │\n",
       "├──────────────────────────────────────┼─────────────────────────────┼─────────────────┤\n",
       "│ batch_normalization_19               │ (\u001b[38;5;45mNone\u001b[0m, \u001b[38;5;34m37\u001b[0m, \u001b[38;5;34m37\u001b[0m, \u001b[38;5;34m128\u001b[0m)         │             \u001b[38;5;34m512\u001b[0m │\n",
       "│ (\u001b[38;5;33mBatchNormalization\u001b[0m)                 │                             │                 │\n",
       "├──────────────────────────────────────┼─────────────────────────────┼─────────────────┤\n",
       "│ max_pooling2d_19 (\u001b[38;5;33mMaxPooling2D\u001b[0m)      │ (\u001b[38;5;45mNone\u001b[0m, \u001b[38;5;34m18\u001b[0m, \u001b[38;5;34m18\u001b[0m, \u001b[38;5;34m128\u001b[0m)         │               \u001b[38;5;34m0\u001b[0m │\n",
       "├──────────────────────────────────────┼─────────────────────────────┼─────────────────┤\n",
       "│ flatten_4 (\u001b[38;5;33mFlatten\u001b[0m)                  │ (\u001b[38;5;45mNone\u001b[0m, \u001b[38;5;34m41472\u001b[0m)               │               \u001b[38;5;34m0\u001b[0m │\n",
       "├──────────────────────────────────────┼─────────────────────────────┼─────────────────┤\n",
       "│ dense_8 (\u001b[38;5;33mDense\u001b[0m)                      │ (\u001b[38;5;45mNone\u001b[0m, \u001b[38;5;34m128\u001b[0m)                 │       \u001b[38;5;34m5,308,544\u001b[0m │\n",
       "├──────────────────────────────────────┼─────────────────────────────┼─────────────────┤\n",
       "│ dense_9 (\u001b[38;5;33mDense\u001b[0m)                      │ (\u001b[38;5;45mNone\u001b[0m, \u001b[38;5;34m2\u001b[0m)                   │             \u001b[38;5;34m258\u001b[0m │\n",
       "└──────────────────────────────────────┴─────────────────────────────┴─────────────────┘\n"
      ]
     },
     "metadata": {},
     "output_type": "display_data"
    },
    {
     "data": {
      "text/html": [
       "<pre style=\"white-space:pre;overflow-x:auto;line-height:normal;font-family:Menlo,'DejaVu Sans Mono',consolas,'Courier New',monospace\"><span style=\"font-weight: bold\"> Total params: </span><span style=\"color: #00af00; text-decoration-color: #00af00\">5,440,130</span> (20.75 MB)\n",
       "</pre>\n"
      ],
      "text/plain": [
       "\u001b[1m Total params: \u001b[0m\u001b[38;5;34m5,440,130\u001b[0m (20.75 MB)\n"
      ]
     },
     "metadata": {},
     "output_type": "display_data"
    },
    {
     "data": {
      "text/html": [
       "<pre style=\"white-space:pre;overflow-x:auto;line-height:normal;font-family:Menlo,'DejaVu Sans Mono',consolas,'Courier New',monospace\"><span style=\"font-weight: bold\"> Trainable params: </span><span style=\"color: #00af00; text-decoration-color: #00af00\">5,439,554</span> (20.75 MB)\n",
       "</pre>\n"
      ],
      "text/plain": [
       "\u001b[1m Trainable params: \u001b[0m\u001b[38;5;34m5,439,554\u001b[0m (20.75 MB)\n"
      ]
     },
     "metadata": {},
     "output_type": "display_data"
    },
    {
     "data": {
      "text/html": [
       "<pre style=\"white-space:pre;overflow-x:auto;line-height:normal;font-family:Menlo,'DejaVu Sans Mono',consolas,'Courier New',monospace\"><span style=\"font-weight: bold\"> Non-trainable params: </span><span style=\"color: #00af00; text-decoration-color: #00af00\">576</span> (2.25 KB)\n",
       "</pre>\n"
      ],
      "text/plain": [
       "\u001b[1m Non-trainable params: \u001b[0m\u001b[38;5;34m576\u001b[0m (2.25 KB)\n"
      ]
     },
     "metadata": {},
     "output_type": "display_data"
    }
   ],
   "source": [
    "model.summary()"
   ]
  },
  {
   "cell_type": "code",
   "execution_count": 72,
   "metadata": {
    "executionInfo": {
     "elapsed": 193,
     "status": "ok",
     "timestamp": 1723859493158,
     "user": {
      "displayName": "ghosalli@ymail.com",
      "userId": "06654975647961110478"
     },
     "user_tz": 240
    },
    "id": "XrTMhvqO1JaR"
   },
   "outputs": [],
   "source": [
    "# Compile the model\n",
    "model.compile(optimizer=Adam(learning_rate=0.0001),\n",
    "              loss='categorical_crossentropy',\n",
    "              metrics=['accuracy'])"
   ]
  },
  {
   "cell_type": "code",
   "execution_count": 73,
   "metadata": {
    "executionInfo": {
     "elapsed": 182,
     "status": "ok",
     "timestamp": 1723859497180,
     "user": {
      "displayName": "ghosalli@ymail.com",
      "userId": "06654975647961110478"
     },
     "user_tz": 240
    },
    "id": "kHmTzKqjl9O2"
   },
   "outputs": [],
   "source": [
    "# Create call back functions\n",
    "\n",
    "# Import the callbacks\n",
    "from tensorflow.keras.callbacks import ModelCheckpoint, EarlyStopping, ReduceLROnPlateau\n",
    "\n",
    "# Define the callbacks\n",
    "\n",
    "# ModelCheckpoint callback (saves best model at specified interval)\n",
    "checkpoint_cb = ModelCheckpoint(\"best_model.keras\", save_best_only=True,        monitor=\"val_loss\", mode=\"min\")\n",
    "# EarlyStopping callback (halts training when metric has stopped improvement, to prevent overfitting)\n",
    "early_stopping_cb = EarlyStopping(patience=5, restore_best_weights=True, monitor=\"val_loss\", mode=\"min\")\n",
    "# ReduceLROnPlateau callback (reduces the learning rate when a monitored metric has stopped improving)\n",
    "reduce_lr_cb = ReduceLROnPlateau(factor=0.1, patience=3, min_lr=0.00001, monitor=\"val_loss\", mode=\"min\")\n"
   ]
  },
  {
   "cell_type": "code",
   "execution_count": 74,
   "metadata": {
    "executionInfo": {
     "elapsed": 252,
     "status": "ok",
     "timestamp": 1723859502191,
     "user": {
      "displayName": "ghosalli@ymail.com",
      "userId": "06654975647961110478"
     },
     "user_tz": 240
    },
    "id": "nCF8hK02BaH0"
   },
   "outputs": [],
   "source": [
    "# Load the TensorBoard notebook extension\n",
    "%load_ext tensorboard\n",
    "\n",
    "import datetime"
   ]
  },
  {
   "cell_type": "code",
   "execution_count": 75,
   "metadata": {
    "executionInfo": {
     "elapsed": 266,
     "status": "ok",
     "timestamp": 1723859535006,
     "user": {
      "displayName": "ghosalli@ymail.com",
      "userId": "06654975647961110478"
     },
     "user_tz": 240
    },
    "id": "E_iGPKenBgOq"
   },
   "outputs": [],
   "source": [
    "# Clear any logs from previous runs\n",
    "rm -rf ./logs/"
   ]
  },
  {
   "cell_type": "code",
   "execution_count": 76,
   "metadata": {
    "executionInfo": {
     "elapsed": 183,
     "status": "ok",
     "timestamp": 1723859540694,
     "user": {
      "displayName": "ghosalli@ymail.com",
      "userId": "06654975647961110478"
     },
     "user_tz": 240
    },
    "id": "WRv1GDnOBEqL"
   },
   "outputs": [],
   "source": [
    "# Adding tf.keras.callbacks.TensorBoard callback ensures that logs are created and stored\n",
    "log_dir = \"logs/fit/\" + datetime.datetime.now().strftime(\"%Y%m%d-%H%M%S\")\n",
    "tensorboard_callback = tf.keras.callbacks.TensorBoard(log_dir=log_dir, histogram_freq=1)"
   ]
  },
  {
   "cell_type": "code",
   "execution_count": 77,
   "metadata": {
    "colab": {
     "base_uri": "https://localhost:8080/"
    },
    "executionInfo": {
     "elapsed": 191252,
     "status": "ok",
     "timestamp": 1723859740642,
     "user": {
      "displayName": "ghosalli@ymail.com",
      "userId": "06654975647961110478"
     },
     "user_tz": 240
    },
    "id": "k9R1x7A7-Qsp",
    "outputId": "f39a9fac-f45f-46c4-e3b1-806aef7c38bb"
   },
   "outputs": [
    {
     "name": "stdout",
     "output_type": "stream",
     "text": [
      "Epoch 1/50\n",
      "\u001b[1m209/209\u001b[0m \u001b[32m━━━━━━━━━━━━━━━━━━━━\u001b[0m\u001b[37m\u001b[0m \u001b[1m28s\u001b[0m 107ms/step - accuracy: 0.8434 - loss: 0.5486 - val_accuracy: 0.5230 - val_loss: 3.2532 - learning_rate: 1.0000e-04\n",
      "Epoch 2/50\n",
      "\u001b[1m209/209\u001b[0m \u001b[32m━━━━━━━━━━━━━━━━━━━━\u001b[0m\u001b[37m\u001b[0m \u001b[1m17s\u001b[0m 80ms/step - accuracy: 0.9002 - loss: 0.2361 - val_accuracy: 0.7666 - val_loss: 0.7871 - learning_rate: 1.0000e-04\n",
      "Epoch 3/50\n",
      "\u001b[1m209/209\u001b[0m \u001b[32m━━━━━━━━━━━━━━━━━━━━\u001b[0m\u001b[37m\u001b[0m \u001b[1m17s\u001b[0m 81ms/step - accuracy: 0.9319 - loss: 0.1756 - val_accuracy: 0.8971 - val_loss: 0.2697 - learning_rate: 1.0000e-04\n",
      "Epoch 4/50\n",
      "\u001b[1m209/209\u001b[0m \u001b[32m━━━━━━━━━━━━━━━━━━━━\u001b[0m\u001b[37m\u001b[0m \u001b[1m16s\u001b[0m 77ms/step - accuracy: 0.9489 - loss: 0.1329 - val_accuracy: 0.9025 - val_loss: 0.2769 - learning_rate: 1.0000e-04\n",
      "Epoch 5/50\n",
      "\u001b[1m209/209\u001b[0m \u001b[32m━━━━━━━━━━━━━━━━━━━━\u001b[0m\u001b[37m\u001b[0m \u001b[1m16s\u001b[0m 79ms/step - accuracy: 0.9622 - loss: 0.1036 - val_accuracy: 0.9042 - val_loss: 0.2620 - learning_rate: 1.0000e-04\n",
      "Epoch 6/50\n",
      "\u001b[1m209/209\u001b[0m \u001b[32m━━━━━━━━━━━━━━━━━━━━\u001b[0m\u001b[37m\u001b[0m \u001b[1m16s\u001b[0m 77ms/step - accuracy: 0.9674 - loss: 0.0929 - val_accuracy: 0.9144 - val_loss: 0.2747 - learning_rate: 1.0000e-04\n",
      "Epoch 7/50\n",
      "\u001b[1m209/209\u001b[0m \u001b[32m━━━━━━━━━━━━━━━━━━━━\u001b[0m\u001b[37m\u001b[0m \u001b[1m16s\u001b[0m 77ms/step - accuracy: 0.9770 - loss: 0.0632 - val_accuracy: 0.9114 - val_loss: 0.3081 - learning_rate: 1.0000e-04\n",
      "Epoch 8/50\n",
      "\u001b[1m209/209\u001b[0m \u001b[32m━━━━━━━━━━━━━━━━━━━━\u001b[0m\u001b[37m\u001b[0m \u001b[1m16s\u001b[0m 77ms/step - accuracy: 0.9816 - loss: 0.0486 - val_accuracy: 0.9240 - val_loss: 0.2944 - learning_rate: 1.0000e-04\n",
      "Epoch 9/50\n",
      "\u001b[1m209/209\u001b[0m \u001b[32m━━━━━━━━━━━━━━━━━━━━\u001b[0m\u001b[37m\u001b[0m \u001b[1m16s\u001b[0m 77ms/step - accuracy: 0.9916 - loss: 0.0280 - val_accuracy: 0.9234 - val_loss: 0.2752 - learning_rate: 1.0000e-05\n",
      "Epoch 10/50\n",
      "\u001b[1m209/209\u001b[0m \u001b[32m━━━━━━━━━━━━━━━━━━━━\u001b[0m\u001b[37m\u001b[0m \u001b[1m16s\u001b[0m 77ms/step - accuracy: 0.9966 - loss: 0.0153 - val_accuracy: 0.9222 - val_loss: 0.2823 - learning_rate: 1.0000e-05\n"
     ]
    }
   ],
   "source": [
    "# Train the model\n",
    "history = model.fit(X_train, y_train,\n",
    "                    epochs=50, batch_size=32,\n",
    "                    validation_data=(X_val, y_val),\n",
    "                    callbacks=[checkpoint_cb, early_stopping_cb, reduce_lr_cb, tensorboard_callback]\n",
    "                    )\n"
   ]
  },
  {
   "cell_type": "markdown",
   "metadata": {
    "id": "zO3latWMthPo"
   },
   "source": [
    "### Note: Originally model did not have \"BatchNormalization\" and it took 30 epochs to achieve an accuracy of 0.92. Above updated model that has \"BatchNormalization\" took only 10 epochs.\n"
   ]
  },
  {
   "cell_type": "code",
   "execution_count": 80,
   "metadata": {
    "executionInfo": {
     "elapsed": 191,
     "status": "ok",
     "timestamp": 1723859960103,
     "user": {
      "displayName": "ghosalli@ymail.com",
      "userId": "06654975647961110478"
     },
     "user_tz": 240
    },
    "id": "YPZNA8xR_tZa"
   },
   "outputs": [],
   "source": [
    "# sess.graph contains the graph definition; that enables the Graph Visualizer.\n",
    "\n",
    "# file_writer = tf.summary.FileWriter('logs/fit/', sess.graph)"
   ]
  },
  {
   "cell_type": "code",
   "execution_count": null,
   "metadata": {
    "colab": {
     "base_uri": "https://localhost:8080/"
    },
    "executionInfo": {
     "elapsed": 432226,
     "status": "ok",
     "timestamp": 1723089236827,
     "user": {
      "displayName": "ghosalli@ymail.com",
      "userId": "06654975647961110478"
     },
     "user_tz": 240
    },
    "id": "LYUQumdk1zwY",
    "outputId": "7df3d3f2-11f7-41fe-e02d-e2349933ac4c"
   },
   "outputs": [
    {
     "name": "stdout",
     "output_type": "stream",
     "text": [
      "Epoch 1/50\n",
      "\u001b[1m209/209\u001b[0m \u001b[32m━━━━━━━━━━━━━━━━━━━━\u001b[0m\u001b[37m\u001b[0m \u001b[1m22s\u001b[0m 89ms/step - accuracy: 0.7083 - loss: 0.5222 - val_accuracy: 0.8288 - val_loss: 0.4014 - learning_rate: 1.0000e-04\n",
      "Epoch 2/50\n",
      "\u001b[1m209/209\u001b[0m \u001b[32m━━━━━━━━━━━━━━━━━━━━\u001b[0m\u001b[37m\u001b[0m \u001b[1m14s\u001b[0m 66ms/step - accuracy: 0.8588 - loss: 0.3243 - val_accuracy: 0.8689 - val_loss: 0.3085 - learning_rate: 1.0000e-04\n",
      "Epoch 3/50\n",
      "\u001b[1m209/209\u001b[0m \u001b[32m━━━━━━━━━━━━━━━━━━━━\u001b[0m\u001b[37m\u001b[0m \u001b[1m14s\u001b[0m 66ms/step - accuracy: 0.8882 - loss: 0.2716 - val_accuracy: 0.8767 - val_loss: 0.2935 - learning_rate: 1.0000e-04\n",
      "Epoch 4/50\n",
      "\u001b[1m209/209\u001b[0m \u001b[32m━━━━━━━━━━━━━━━━━━━━\u001b[0m\u001b[37m\u001b[0m \u001b[1m13s\u001b[0m 64ms/step - accuracy: 0.8926 - loss: 0.2578 - val_accuracy: 0.8809 - val_loss: 0.2963 - learning_rate: 1.0000e-04\n",
      "Epoch 5/50\n",
      "\u001b[1m209/209\u001b[0m \u001b[32m━━━━━━━━━━━━━━━━━━━━\u001b[0m\u001b[37m\u001b[0m \u001b[1m14s\u001b[0m 66ms/step - accuracy: 0.8991 - loss: 0.2520 - val_accuracy: 0.8959 - val_loss: 0.2655 - learning_rate: 1.0000e-04\n",
      "Epoch 6/50\n",
      "\u001b[1m209/209\u001b[0m \u001b[32m━━━━━━━━━━━━━━━━━━━━\u001b[0m\u001b[37m\u001b[0m \u001b[1m14s\u001b[0m 66ms/step - accuracy: 0.9061 - loss: 0.2283 - val_accuracy: 0.8977 - val_loss: 0.2502 - learning_rate: 1.0000e-04\n",
      "Epoch 7/50\n",
      "\u001b[1m209/209\u001b[0m \u001b[32m━━━━━━━━━━━━━━━━━━━━\u001b[0m\u001b[37m\u001b[0m \u001b[1m14s\u001b[0m 66ms/step - accuracy: 0.9165 - loss: 0.2158 - val_accuracy: 0.9013 - val_loss: 0.2396 - learning_rate: 1.0000e-04\n",
      "Epoch 8/50\n",
      "\u001b[1m209/209\u001b[0m \u001b[32m━━━━━━━━━━━━━━━━━━━━\u001b[0m\u001b[37m\u001b[0m \u001b[1m13s\u001b[0m 64ms/step - accuracy: 0.9191 - loss: 0.2028 - val_accuracy: 0.9013 - val_loss: 0.2400 - learning_rate: 1.0000e-04\n",
      "Epoch 9/50\n",
      "\u001b[1m209/209\u001b[0m \u001b[32m━━━━━━━━━━━━━━━━━━━━\u001b[0m\u001b[37m\u001b[0m \u001b[1m14s\u001b[0m 65ms/step - accuracy: 0.9178 - loss: 0.2069 - val_accuracy: 0.9084 - val_loss: 0.2415 - learning_rate: 1.0000e-04\n",
      "Epoch 10/50\n",
      "\u001b[1m209/209\u001b[0m \u001b[32m━━━━━━━━━━━━━━━━━━━━\u001b[0m\u001b[37m\u001b[0m \u001b[1m13s\u001b[0m 64ms/step - accuracy: 0.9266 - loss: 0.1879 - val_accuracy: 0.9013 - val_loss: 0.2452 - learning_rate: 1.0000e-04\n",
      "Epoch 11/50\n",
      "\u001b[1m209/209\u001b[0m \u001b[32m━━━━━━━━━━━━━━━━━━━━\u001b[0m\u001b[37m\u001b[0m \u001b[1m14s\u001b[0m 66ms/step - accuracy: 0.9277 - loss: 0.1860 - val_accuracy: 0.9102 - val_loss: 0.2296 - learning_rate: 1.0000e-05\n",
      "Epoch 12/50\n",
      "\u001b[1m209/209\u001b[0m \u001b[32m━━━━━━━━━━━━━━━━━━━━\u001b[0m\u001b[37m\u001b[0m \u001b[1m13s\u001b[0m 64ms/step - accuracy: 0.9344 - loss: 0.1773 - val_accuracy: 0.9060 - val_loss: 0.2342 - learning_rate: 1.0000e-05\n",
      "Epoch 13/50\n",
      "\u001b[1m209/209\u001b[0m \u001b[32m━━━━━━━━━━━━━━━━━━━━\u001b[0m\u001b[37m\u001b[0m \u001b[1m14s\u001b[0m 66ms/step - accuracy: 0.9350 - loss: 0.1703 - val_accuracy: 0.9072 - val_loss: 0.2295 - learning_rate: 1.0000e-05\n",
      "Epoch 14/50\n",
      "\u001b[1m209/209\u001b[0m \u001b[32m━━━━━━━━━━━━━━━━━━━━\u001b[0m\u001b[37m\u001b[0m \u001b[1m13s\u001b[0m 64ms/step - accuracy: 0.9373 - loss: 0.1607 - val_accuracy: 0.9060 - val_loss: 0.2306 - learning_rate: 1.0000e-05\n",
      "Epoch 15/50\n",
      "\u001b[1m209/209\u001b[0m \u001b[32m━━━━━━━━━━━━━━━━━━━━\u001b[0m\u001b[37m\u001b[0m \u001b[1m13s\u001b[0m 64ms/step - accuracy: 0.9361 - loss: 0.1665 - val_accuracy: 0.9007 - val_loss: 0.2551 - learning_rate: 1.0000e-05\n",
      "Epoch 16/50\n",
      "\u001b[1m209/209\u001b[0m \u001b[32m━━━━━━━━━━━━━━━━━━━━\u001b[0m\u001b[37m\u001b[0m \u001b[1m14s\u001b[0m 66ms/step - accuracy: 0.9366 - loss: 0.1703 - val_accuracy: 0.9102 - val_loss: 0.2262 - learning_rate: 1.0000e-05\n",
      "Epoch 17/50\n",
      "\u001b[1m209/209\u001b[0m \u001b[32m━━━━━━━━━━━━━━━━━━━━\u001b[0m\u001b[37m\u001b[0m \u001b[1m14s\u001b[0m 66ms/step - accuracy: 0.9365 - loss: 0.1609 - val_accuracy: 0.9096 - val_loss: 0.2207 - learning_rate: 1.0000e-05\n",
      "Epoch 18/50\n",
      "\u001b[1m209/209\u001b[0m \u001b[32m━━━━━━━━━━━━━━━━━━━━\u001b[0m\u001b[37m\u001b[0m \u001b[1m13s\u001b[0m 64ms/step - accuracy: 0.9413 - loss: 0.1585 - val_accuracy: 0.9078 - val_loss: 0.2222 - learning_rate: 1.0000e-05\n",
      "Epoch 19/50\n",
      "\u001b[1m209/209\u001b[0m \u001b[32m━━━━━━━━━━━━━━━━━━━━\u001b[0m\u001b[37m\u001b[0m \u001b[1m14s\u001b[0m 66ms/step - accuracy: 0.9391 - loss: 0.1625 - val_accuracy: 0.9150 - val_loss: 0.2197 - learning_rate: 1.0000e-05\n",
      "Epoch 20/50\n",
      "\u001b[1m209/209\u001b[0m \u001b[32m━━━━━━━━━━━━━━━━━━━━\u001b[0m\u001b[37m\u001b[0m \u001b[1m14s\u001b[0m 66ms/step - accuracy: 0.9403 - loss: 0.1585 - val_accuracy: 0.9126 - val_loss: 0.2173 - learning_rate: 1.0000e-05\n",
      "Epoch 21/50\n",
      "\u001b[1m209/209\u001b[0m \u001b[32m━━━━━━━━━━━━━━━━━━━━\u001b[0m\u001b[37m\u001b[0m \u001b[1m13s\u001b[0m 64ms/step - accuracy: 0.9441 - loss: 0.1554 - val_accuracy: 0.9037 - val_loss: 0.2430 - learning_rate: 1.0000e-05\n",
      "Epoch 22/50\n",
      "\u001b[1m209/209\u001b[0m \u001b[32m━━━━━━━━━━━━━━━━━━━━\u001b[0m\u001b[37m\u001b[0m \u001b[1m13s\u001b[0m 64ms/step - accuracy: 0.9358 - loss: 0.1617 - val_accuracy: 0.9096 - val_loss: 0.2200 - learning_rate: 1.0000e-05\n",
      "Epoch 23/50\n",
      "\u001b[1m209/209\u001b[0m \u001b[32m━━━━━━━━━━━━━━━━━━━━\u001b[0m\u001b[37m\u001b[0m \u001b[1m14s\u001b[0m 66ms/step - accuracy: 0.9414 - loss: 0.1564 - val_accuracy: 0.9108 - val_loss: 0.2172 - learning_rate: 1.0000e-05\n",
      "Epoch 24/50\n",
      "\u001b[1m209/209\u001b[0m \u001b[32m━━━━━━━━━━━━━━━━━━━━\u001b[0m\u001b[37m\u001b[0m \u001b[1m14s\u001b[0m 64ms/step - accuracy: 0.9417 - loss: 0.1573 - val_accuracy: 0.9102 - val_loss: 0.2237 - learning_rate: 1.0000e-05\n",
      "Epoch 25/50\n",
      "\u001b[1m209/209\u001b[0m \u001b[32m━━━━━━━━━━━━━━━━━━━━\u001b[0m\u001b[37m\u001b[0m \u001b[1m14s\u001b[0m 66ms/step - accuracy: 0.9414 - loss: 0.1517 - val_accuracy: 0.9156 - val_loss: 0.2172 - learning_rate: 1.0000e-05\n",
      "Epoch 26/50\n",
      "\u001b[1m209/209\u001b[0m \u001b[32m━━━━━━━━━━━━━━━━━━━━\u001b[0m\u001b[37m\u001b[0m \u001b[1m13s\u001b[0m 64ms/step - accuracy: 0.9450 - loss: 0.1488 - val_accuracy: 0.9138 - val_loss: 0.2196 - learning_rate: 1.0000e-05\n",
      "Epoch 27/50\n",
      "\u001b[1m209/209\u001b[0m \u001b[32m━━━━━━━━━━━━━━━━━━━━\u001b[0m\u001b[37m\u001b[0m \u001b[1m14s\u001b[0m 65ms/step - accuracy: 0.9411 - loss: 0.1537 - val_accuracy: 0.9120 - val_loss: 0.2254 - learning_rate: 1.0000e-05\n",
      "Epoch 28/50\n",
      "\u001b[1m209/209\u001b[0m \u001b[32m━━━━━━━━━━━━━━━━━━━━\u001b[0m\u001b[37m\u001b[0m \u001b[1m13s\u001b[0m 64ms/step - accuracy: 0.9467 - loss: 0.1447 - val_accuracy: 0.9120 - val_loss: 0.2187 - learning_rate: 1.0000e-05\n",
      "Epoch 29/50\n",
      "\u001b[1m209/209\u001b[0m \u001b[32m━━━━━━━━━━━━━━━━━━━━\u001b[0m\u001b[37m\u001b[0m \u001b[1m13s\u001b[0m 64ms/step - accuracy: 0.9448 - loss: 0.1493 - val_accuracy: 0.9138 - val_loss: 0.2194 - learning_rate: 1.0000e-05\n",
      "Epoch 30/50\n",
      "\u001b[1m209/209\u001b[0m \u001b[32m━━━━━━━━━━━━━━━━━━━━\u001b[0m\u001b[37m\u001b[0m \u001b[1m13s\u001b[0m 64ms/step - accuracy: 0.9419 - loss: 0.1515 - val_accuracy: 0.9078 - val_loss: 0.2226 - learning_rate: 1.0000e-05\n"
     ]
    }
   ],
   "source": [
    "# # Train the model\n",
    "# history = model.fit(X_train, y_train,\n",
    "#                     epochs=50, batch_size=32,\n",
    "#                     validation_data=(X_val, y_val),\n",
    "#                     callbacks=[checkpoint_cb, early_stopping_cb, reduce_lr_cb]\n",
    "#                     )\n",
    "\n",
    "## >>>>>>>>>> Previous model took 30 epochs <<<<<<<<<<"
   ]
  },
  {
   "cell_type": "code",
   "execution_count": 16,
   "metadata": {
    "colab": {
     "base_uri": "https://localhost:8080/"
    },
    "executionInfo": {
     "elapsed": 7461,
     "status": "ok",
     "timestamp": 1723853415372,
     "user": {
      "displayName": "ghosalli@ymail.com",
      "userId": "06654975647961110478"
     },
     "user_tz": 240
    },
    "id": "4Nu2dPmsqsmV",
    "outputId": "f8c882ec-d182-4d55-ac98-8e6e1e3069b6"
   },
   "outputs": [
    {
     "name": "stdout",
     "output_type": "stream",
     "text": [
      "\u001b[1m83/83\u001b[0m \u001b[32m━━━━━━━━━━━━━━━━━━━━\u001b[0m\u001b[37m\u001b[0m \u001b[1m4s\u001b[0m 47ms/step - accuracy: 0.9224 - loss: 0.2161\n",
      "Test accuracy: 0.9211915731430054\n"
     ]
    }
   ],
   "source": [
    "# Evaluate the model using the testing data\n",
    "test_loss, test_acc = model.evaluate(X_test, y_test)\n",
    "print('Test accuracy:', test_acc)"
   ]
  },
  {
   "cell_type": "code",
   "execution_count": 19,
   "metadata": {
    "colab": {
     "base_uri": "https://localhost:8080/"
    },
    "executionInfo": {
     "elapsed": 5846,
     "status": "ok",
     "timestamp": 1723853622155,
     "user": {
      "displayName": "ghosalli@ymail.com",
      "userId": "06654975647961110478"
     },
     "user_tz": 240
    },
    "id": "IN4AoitoxS4o",
    "outputId": "68139163-c0a7-4d4e-8f7a-aa428d6e1250"
   },
   "outputs": [
    {
     "name": "stdout",
     "output_type": "stream",
     "text": [
      "\u001b[1m83/83\u001b[0m \u001b[32m━━━━━━━━━━━━━━━━━━━━\u001b[0m\u001b[37m\u001b[0m \u001b[1m2s\u001b[0m 23ms/step\n",
      "[[9.7709948e-01 2.2900583e-02]\n",
      " [8.9288384e-01 1.0711619e-01]\n",
      " [9.8951662e-01 1.0483471e-02]\n",
      " ...\n",
      " [8.5479397e-01 1.4520603e-01]\n",
      " [1.9839308e-05 9.9998021e-01]\n",
      " [4.4637769e-03 9.9553615e-01]]\n"
     ]
    }
   ],
   "source": [
    "# Predict using the model\n",
    "y_pred_probs = model.predict(X_test)\n",
    "y_pred = np.argmax(y_pred_probs, axis=1)\n",
    "y_true = np.argmax(y_test, axis=1)\n",
    "print(y_pred_probs)"
   ]
  },
  {
   "cell_type": "code",
   "execution_count": 20,
   "metadata": {
    "colab": {
     "base_uri": "https://localhost:8080/"
    },
    "executionInfo": {
     "elapsed": 215,
     "status": "ok",
     "timestamp": 1723853650175,
     "user": {
      "displayName": "ghosalli@ymail.com",
      "userId": "06654975647961110478"
     },
     "user_tz": 240
    },
    "id": "QP4htibA_1BM",
    "outputId": "d5489356-9019-4121-8919-68e98812ea5a"
   },
   "outputs": [
    {
     "name": "stdout",
     "output_type": "stream",
     "text": [
      "[0 0 0 1 0 0 0 0 0 1 0 1 1 1 0 1 1 1 0 0 1 1 0 1 0 1 0 0 1 1 0 1 1 1 0 0 1\n",
      " 1 1 0 1 1 1 0 1 1 0 1 1 0]\n",
      "[0 0 0 1 0 0 1 0 0 1 0 1 1 1 0 1 1 1 1 0 1 1 0 1 0 1 0 0 1 1 0 1 0 1 1 0 1\n",
      " 1 1 0 1 1 1 1 1 1 0 1 1 0]\n"
     ]
    }
   ],
   "source": [
    "# Check few predictions\n",
    "print(y_pred[:50])\n",
    "print(y_true[:50])"
   ]
  },
  {
   "cell_type": "code",
   "execution_count": 23,
   "metadata": {
    "colab": {
     "base_uri": "https://localhost:8080/",
     "height": 1000,
     "output_embedded_package_id": "1NueLvm5AOFu6YKnrAdxtP7U2cLU1vrpt"
    },
    "collapsed": true,
    "executionInfo": {
     "elapsed": 6787,
     "status": "ok",
     "timestamp": 1723853877268,
     "user": {
      "displayName": "ghosalli@ymail.com",
      "userId": "06654975647961110478"
     },
     "user_tz": 240
    },
    "id": "p1hDJJ3uv0m4",
    "jupyter": {
     "outputs_hidden": true
    },
    "outputId": "ca78be23-0ffe-44bd-ab75-ab7fad220e2c"
   },
   "outputs": [
    {
     "data": {
      "text/plain": [
       "Output hidden; open in https://colab.research.google.com to view."
      ]
     },
     "metadata": {},
     "output_type": "display_data"
    }
   ],
   "source": [
    "# plot images with True and predicted values from model\n",
    "# Set up the subplot grid\n",
    "fig, axes = plt.subplots(5, 10, figsize=(20, 10))\n",
    "fig.subplots_adjust(hspace=0.4, wspace=0.4)\n",
    "\n",
    "# Iterate over the subplot grid\n",
    "for i, ax in enumerate(axes.flat):\n",
    "    if i < 50:\n",
    "        # Read the image\n",
    "        img = X_test[i]\n",
    "\n",
    "        # Display the image\n",
    "        # ax.imshow(img*255).astype('uint8')  # gives an error\n",
    "        ax.imshow(img)\n",
    "        ax.axis('off')  # Turn off axis labels\n",
    "        if y_true[i] == y_pred[i]:\n",
    "          ax.set_title(f\"Actual: {y_true[i]}, Predicted: {y_pred[i]}\", color='green')\n",
    "        else:\n",
    "          # Prediction was wrong - diplay in red color\n",
    "          ax.set_title(f\"Actual: {y_true[i]}, Predicted: {y_pred[i]}\", color='red')\n",
    "        #ax.set_title(f'Image {i+1}', fontsize=8)\n",
    "    # else:\n",
    "    #     # Remove the empty subplot\n",
    "    #     ax.remove()\n",
    "\n",
    "plt.tight_layout()\n",
    "plt.show()"
   ]
  },
  {
   "cell_type": "code",
   "execution_count": null,
   "metadata": {
    "id": "ZWzud1xAu-ND"
   },
   "outputs": [],
   "source": []
  },
  {
   "cell_type": "code",
   "execution_count": 24,
   "metadata": {
    "colab": {
     "base_uri": "https://localhost:8080/"
    },
    "executionInfo": {
     "elapsed": 211,
     "status": "ok",
     "timestamp": 1723854048162,
     "user": {
      "displayName": "ghosalli@ymail.com",
      "userId": "06654975647961110478"
     },
     "user_tz": 240
    },
    "id": "ltl1qTS65GnY",
    "outputId": "5fe62fb0-ae66-44a7-a9d7-152bad88f3dd"
   },
   "outputs": [
    {
     "name": "stdout",
     "output_type": "stream",
     "text": [
      "Accuracy: 0.92\n",
      "Precision: 0.94\n",
      "Recall: 0.90\n",
      "F1 Score: 0.92\n",
      "AUC-ROC: 0.97\n"
     ]
    }
   ],
   "source": [
    "# Calculate metrics\n",
    "accuracy = accuracy_score(y_true, y_pred)\n",
    "precision = precision_score(y_true, y_pred, average='binary')  # Use 'micro', 'macro', or 'weighted' for multi-class\n",
    "recall = recall_score(y_true, y_pred, average='binary')\n",
    "f1 = f1_score(y_true, y_pred, average='binary')\n",
    "roc_auc = roc_auc_score(y_true, y_pred_probs[:, 1])  # Use probabilities for AUC\n",
    "\n",
    "# Print metrics\n",
    "print(f\"Accuracy: {accuracy:.2f}\")\n",
    "print(f\"Precision: {precision:.2f}\")\n",
    "print(f\"Recall: {recall:.2f}\")\n",
    "print(f\"F1 Score: {f1:.2f}\")\n",
    "print(f\"AUC-ROC: {roc_auc:.2f}\")"
   ]
  },
  {
   "cell_type": "code",
   "execution_count": 25,
   "metadata": {
    "colab": {
     "base_uri": "https://localhost:8080/"
    },
    "executionInfo": {
     "elapsed": 189,
     "status": "ok",
     "timestamp": 1723854454872,
     "user": {
      "displayName": "ghosalli@ymail.com",
      "userId": "06654975647961110478"
     },
     "user_tz": 240
    },
    "id": "SQaxmM-n5MBu",
    "outputId": "e78fe52c-a477-4c52-d932-8f0c094b0b60"
   },
   "outputs": [
    {
     "name": "stdout",
     "output_type": "stream",
     "text": [
      "Confusion Matrix:\n"
     ]
    },
    {
     "data": {
      "text/plain": [
       "array([[1299,   78],\n",
       "       [ 131, 1144]])"
      ]
     },
     "execution_count": 25,
     "metadata": {},
     "output_type": "execute_result"
    }
   ],
   "source": [
    "# Confusion Matrix\n",
    "conf_matrix = confusion_matrix(y_true, y_pred)\n",
    "print(\"Confusion Matrix:\")\n",
    "#print(conf_matrix)\n",
    "conf_matrix"
   ]
  },
  {
   "cell_type": "code",
   "execution_count": 26,
   "metadata": {
    "colab": {
     "base_uri": "https://localhost:8080/"
    },
    "executionInfo": {
     "elapsed": 191,
     "status": "ok",
     "timestamp": 1723854465738,
     "user": {
      "displayName": "ghosalli@ymail.com",
      "userId": "06654975647961110478"
     },
     "user_tz": 240
    },
    "id": "3kDHpkXd5bUz",
    "outputId": "0180690f-c121-4bb6-f27d-f8d4f83fd79d"
   },
   "outputs": [
    {
     "name": "stdout",
     "output_type": "stream",
     "text": [
      "Classification Report:\n",
      "              precision    recall  f1-score   support\n",
      "\n",
      "           0       0.91      0.94      0.93      1377\n",
      "           1       0.94      0.90      0.92      1275\n",
      "\n",
      "    accuracy                           0.92      2652\n",
      "   macro avg       0.92      0.92      0.92      2652\n",
      "weighted avg       0.92      0.92      0.92      2652\n",
      "\n"
     ]
    }
   ],
   "source": [
    "# Classification report\n",
    "print(\"Classification Report:\")\n",
    "print(classification_report(y_true, y_pred))"
   ]
  },
  {
   "cell_type": "markdown",
   "metadata": {
    "id": "GyTdCzHl2na9"
   },
   "source": [
    "# Save the Model"
   ]
  },
  {
   "cell_type": "code",
   "execution_count": 27,
   "metadata": {
    "executionInfo": {
     "elapsed": 5082,
     "status": "ok",
     "timestamp": 1723854492678,
     "user": {
      "displayName": "ghosalli@ymail.com",
      "userId": "06654975647961110478"
     },
     "user_tz": 240
    },
    "id": "qHjFAYeLBc5n"
   },
   "outputs": [],
   "source": [
    "# Save the model\n",
    "model.save('/content/drive/My Drive/saved_model/melanoma_cnn_model.keras')"
   ]
  },
  {
   "cell_type": "markdown",
   "metadata": {
    "id": "j1JyEZ3D5ZFQ"
   },
   "source": [
    "# Plots"
   ]
  },
  {
   "cell_type": "code",
   "execution_count": 54,
   "metadata": {
    "colab": {
     "base_uri": "https://localhost:8080/",
     "height": 428
    },
    "executionInfo": {
     "elapsed": 495,
     "status": "ok",
     "timestamp": 1723857206949,
     "user": {
      "displayName": "ghosalli@ymail.com",
      "userId": "06654975647961110478"
     },
     "user_tz": 240
    },
    "id": "ShQqy3AH5WN4",
    "outputId": "743b35d9-0d65-487b-c96f-16235d3a6551"
   },
   "outputs": [
    {
     "data": {
      "image/png": "[encoded data removed]",
      "text/plain": [
       "<Figure size 1200x400 with 2 Axes>"
      ]
     },
     "metadata": {},
     "output_type": "display_data"
    }
   ],
   "source": [
    "# Plot accuracy and loss curves\n",
    "# Subplot Accuracy\n",
    "plt.figure(figsize=(12, 4))\n",
    "\n",
    "plt.subplot(1, 2, 1)\n",
    "plt.plot(history.history['accuracy'], label='Training Accuracy')\n",
    "plt.plot(history.history['val_accuracy'], label='Validation Accuracy')\n",
    "plt.title('Model Accuracy')\n",
    "plt.xlabel('Epochs')\n",
    "plt.ylabel('Accuracy')\n",
    "plt.legend(loc='lower right')\n",
    "\n",
    "# Subplot Loss\n",
    "plt.subplot(1, 2, 2)\n",
    "plt.plot(history.history['loss'], label='Training Loss')\n",
    "plt.plot(history.history['val_loss'], label='Validation Loss')\n",
    "plt.title('Model Loss')\n",
    "plt.xlabel('Epochs')\n",
    "plt.ylabel('Loss')\n",
    "plt.legend(loc='upper right')\n",
    "\n",
    "plt.tight_layout()\n",
    "plt.show()"
   ]
  },
  {
   "cell_type": "code",
   "execution_count": 53,
   "metadata": {
    "colab": {
     "base_uri": "https://localhost:8080/",
     "height": 428
    },
    "executionInfo": {
     "elapsed": 538,
     "status": "ok",
     "timestamp": 1723857076714,
     "user": {
      "displayName": "ghosalli@ymail.com",
      "userId": "06654975647961110478"
     },
     "user_tz": 240
    },
    "id": "GajLiPfI1oQ-",
    "outputId": "a83bacb2-7b56-4808-cb55-d861e4899b01"
   },
   "outputs": [
    {
     "data": {
      "image/png": "[encoded data removed]",
      "text/plain": [
       "<Figure size 1200x400 with 2 Axes>"
      ]
     },
     "metadata": {},
     "output_type": "display_data"
    }
   ],
   "source": [
    "# Plot ROC & Precision-Recall curves\n",
    "# ROC curve subplot\n",
    "fpr, tpr, thresholds = roc_curve(y_true, y_pred_probs[:, 1])\n",
    "plt.figure(figsize=(12, 4))\n",
    "\n",
    "plt.subplot(1, 2, 1)\n",
    "plt.plot(fpr, tpr, label=\"Precision-Recall curve\")\n",
    "plt.plot([0, 1], [0, 1], 'k--', label=\"Random Guess\")\n",
    "plt.xlabel(\"False Positive Rate\")\n",
    "plt.ylabel(\"True Positive Rate\")\n",
    "plt.title(\"Receiver Operating Characteristic (ROC) curve\")\n",
    "plt.legend(loc='lower right')\n",
    "\n",
    "# Precision-Recall curve subplot\n",
    "precision_vals, recall_vals, thresholds = precision_recall_curve(y_true,\n",
    "                                                    y_pred_probs[:, 1])\n",
    "\n",
    "plt.subplot(1, 2, 2)\n",
    "plt.plot(recall_vals, precision_vals, label=\"Precision-Recall Curve\")\n",
    "plt.xlabel(\"Recall\")\n",
    "plt.ylabel(\"Precision\")\n",
    "plt.title(\"Precision-Recall Curve\")\n",
    "plt.legend(loc='lower left')\n",
    "\n",
    "plt.tight_layout()\n",
    "plt.show()"
   ]
  },
  {
   "cell_type": "markdown",
   "metadata": {
    "id": "efGxxOnBESzX"
   },
   "source": [
    "# Fine tuning"
   ]
  },
  {
   "cell_type": "code",
   "execution_count": 37,
   "metadata": {
    "executionInfo": {
     "elapsed": 225,
     "status": "ok",
     "timestamp": 1723854815739,
     "user": {
      "displayName": "ghosalli@ymail.com",
      "userId": "06654975647961110478"
     },
     "user_tz": 240
    },
    "id": "9fgXGl87ECL7"
   },
   "outputs": [],
   "source": [
    "model_sgd = cnn_model()"
   ]
  },
  {
   "cell_type": "code",
   "execution_count": 38,
   "metadata": {
    "executionInfo": {
     "elapsed": 197,
     "status": "ok",
     "timestamp": 1723854818581,
     "user": {
      "displayName": "ghosalli@ymail.com",
      "userId": "06654975647961110478"
     },
     "user_tz": 240
    },
    "id": "FDSYNL97EYAZ"
   },
   "outputs": [],
   "source": [
    "# Use SGD optimizer\n",
    "model_sgd.compile(optimizer=tf.keras.optimizers.SGD(0.001),\n",
    "                loss='categorical_crossentropy',\n",
    "                metrics = ['accuracy'])"
   ]
  },
  {
   "cell_type": "code",
   "execution_count": 39,
   "metadata": {
    "colab": {
     "base_uri": "https://localhost:8080/"
    },
    "executionInfo": {
     "elapsed": 265060,
     "status": "ok",
     "timestamp": 1723855085791,
     "user": {
      "displayName": "ghosalli@ymail.com",
      "userId": "06654975647961110478"
     },
     "user_tz": 240
    },
    "id": "7InSb7sjEfLi",
    "outputId": "3249a60f-9de0-4d76-e3e6-c49504fa1043"
   },
   "outputs": [
    {
     "name": "stdout",
     "output_type": "stream",
     "text": [
      "Epoch 1/50\n",
      "\u001b[1m209/209\u001b[0m \u001b[32m━━━━━━━━━━━━━━━━━━━━\u001b[0m\u001b[37m\u001b[0m \u001b[1m24s\u001b[0m 100ms/step - accuracy: 0.8543 - loss: 0.3588 - val_accuracy: 0.6349 - val_loss: 0.6226 - learning_rate: 0.0010\n",
      "Epoch 2/50\n",
      "\u001b[1m209/209\u001b[0m \u001b[32m━━━━━━━━━━━━━━━━━━━━\u001b[0m\u001b[37m\u001b[0m \u001b[1m15s\u001b[0m 74ms/step - accuracy: 0.9114 - loss: 0.2086 - val_accuracy: 0.8402 - val_loss: 0.3421 - learning_rate: 0.0010\n",
      "Epoch 3/50\n",
      "\u001b[1m209/209\u001b[0m \u001b[32m━━━━━━━━━━━━━━━━━━━━\u001b[0m\u001b[37m\u001b[0m \u001b[1m16s\u001b[0m 74ms/step - accuracy: 0.9284 - loss: 0.1742 - val_accuracy: 0.9060 - val_loss: 0.2418 - learning_rate: 0.0010\n",
      "Epoch 4/50\n",
      "\u001b[1m209/209\u001b[0m \u001b[32m━━━━━━━━━━━━━━━━━━━━\u001b[0m\u001b[37m\u001b[0m \u001b[1m16s\u001b[0m 74ms/step - accuracy: 0.9435 - loss: 0.1416 - val_accuracy: 0.9186 - val_loss: 0.2076 - learning_rate: 0.0010\n",
      "Epoch 5/50\n",
      "\u001b[1m209/209\u001b[0m \u001b[32m━━━━━━━━━━━━━━━━━━━━\u001b[0m\u001b[37m\u001b[0m \u001b[1m15s\u001b[0m 74ms/step - accuracy: 0.9556 - loss: 0.1172 - val_accuracy: 0.9114 - val_loss: 0.2184 - learning_rate: 0.0010\n",
      "Epoch 6/50\n",
      "\u001b[1m209/209\u001b[0m \u001b[32m━━━━━━━━━━━━━━━━━━━━\u001b[0m\u001b[37m\u001b[0m \u001b[1m15s\u001b[0m 73ms/step - accuracy: 0.9621 - loss: 0.1036 - val_accuracy: 0.9210 - val_loss: 0.2153 - learning_rate: 0.0010\n",
      "Epoch 7/50\n",
      "\u001b[1m209/209\u001b[0m \u001b[32m━━━━━━━━━━━━━━━━━━━━\u001b[0m\u001b[37m\u001b[0m \u001b[1m15s\u001b[0m 74ms/step - accuracy: 0.9658 - loss: 0.0966 - val_accuracy: 0.9210 - val_loss: 0.2123 - learning_rate: 0.0010\n",
      "Epoch 8/50\n",
      "\u001b[1m209/209\u001b[0m \u001b[32m━━━━━━━━━━━━━━━━━━━━\u001b[0m\u001b[37m\u001b[0m \u001b[1m16s\u001b[0m 74ms/step - accuracy: 0.9721 - loss: 0.0808 - val_accuracy: 0.9288 - val_loss: 0.2056 - learning_rate: 1.0000e-04\n",
      "Epoch 9/50\n",
      "\u001b[1m209/209\u001b[0m \u001b[32m━━━━━━━━━━━━━━━━━━━━\u001b[0m\u001b[37m\u001b[0m \u001b[1m15s\u001b[0m 73ms/step - accuracy: 0.9777 - loss: 0.0700 - val_accuracy: 0.9246 - val_loss: 0.2061 - learning_rate: 1.0000e-04\n",
      "Epoch 10/50\n",
      "\u001b[1m209/209\u001b[0m \u001b[32m━━━━━━━━━━━━━━━━━━━━\u001b[0m\u001b[37m\u001b[0m \u001b[1m16s\u001b[0m 74ms/step - accuracy: 0.9779 - loss: 0.0731 - val_accuracy: 0.9252 - val_loss: 0.2048 - learning_rate: 1.0000e-04\n",
      "Epoch 11/50\n",
      "\u001b[1m209/209\u001b[0m \u001b[32m━━━━━━━━━━━━━━━━━━━━\u001b[0m\u001b[37m\u001b[0m \u001b[1m15s\u001b[0m 74ms/step - accuracy: 0.9785 - loss: 0.0719 - val_accuracy: 0.9264 - val_loss: 0.2052 - learning_rate: 1.0000e-04\n",
      "Epoch 12/50\n",
      "\u001b[1m209/209\u001b[0m \u001b[32m━━━━━━━━━━━━━━━━━━━━\u001b[0m\u001b[37m\u001b[0m \u001b[1m15s\u001b[0m 74ms/step - accuracy: 0.9801 - loss: 0.0688 - val_accuracy: 0.9246 - val_loss: 0.2060 - learning_rate: 1.0000e-04\n",
      "Epoch 13/50\n",
      "\u001b[1m209/209\u001b[0m \u001b[32m━━━━━━━━━━━━━━━━━━━━\u001b[0m\u001b[37m\u001b[0m \u001b[1m15s\u001b[0m 74ms/step - accuracy: 0.9795 - loss: 0.0684 - val_accuracy: 0.9246 - val_loss: 0.2050 - learning_rate: 1.0000e-04\n",
      "Epoch 14/50\n",
      "\u001b[1m209/209\u001b[0m \u001b[32m━━━━━━━━━━━━━━━━━━━━\u001b[0m\u001b[37m\u001b[0m \u001b[1m15s\u001b[0m 73ms/step - accuracy: 0.9827 - loss: 0.0657 - val_accuracy: 0.9234 - val_loss: 0.2051 - learning_rate: 1.0000e-05\n",
      "Epoch 15/50\n",
      "\u001b[1m209/209\u001b[0m \u001b[32m━━━━━━━━━━━━━━━━━━━━\u001b[0m\u001b[37m\u001b[0m \u001b[1m15s\u001b[0m 74ms/step - accuracy: 0.9816 - loss: 0.0651 - val_accuracy: 0.9246 - val_loss: 0.2053 - learning_rate: 1.0000e-05\n"
     ]
    }
   ],
   "source": [
    "history_sgd = model_sgd.fit(X_train, y_train,\n",
    "                    epochs=50, batch_size=32,\n",
    "                    validation_data=(X_val, y_val),\n",
    "                    callbacks=[checkpoint_cb, early_stopping_cb, reduce_lr_cb]\n",
    "                    )"
   ]
  },
  {
   "cell_type": "code",
   "execution_count": 61,
   "metadata": {
    "colab": {
     "base_uri": "https://localhost:8080/"
    },
    "executionInfo": {
     "elapsed": 4654,
     "status": "ok",
     "timestamp": 1723857948282,
     "user": {
      "displayName": "ghosalli@ymail.com",
      "userId": "06654975647961110478"
     },
     "user_tz": 240
    },
    "id": "XY_Xcn3zAJrw",
    "outputId": "1a358b34-1e2f-44f8-d91f-88eb1605d1c6"
   },
   "outputs": [
    {
     "name": "stdout",
     "output_type": "stream",
     "text": [
      "\u001b[1m83/83\u001b[0m \u001b[32m━━━━━━━━━━━━━━━━━━━━\u001b[0m\u001b[37m\u001b[0m \u001b[1m2s\u001b[0m 19ms/step - accuracy: 0.9277 - loss: 0.1814\n",
      "Test accuracy: 0.9257164597511292\n"
     ]
    }
   ],
   "source": [
    "# Evaluate the model using the testing data\n",
    "test_loss_sgd, test_acc_sgd = model_sgd.evaluate(X_test, y_test)\n",
    "print('Test accuracy:', test_acc_sgd)"
   ]
  },
  {
   "cell_type": "code",
   "execution_count": 58,
   "metadata": {
    "colab": {
     "base_uri": "https://localhost:8080/"
    },
    "executionInfo": {
     "elapsed": 5191,
     "status": "ok",
     "timestamp": 1723857815908,
     "user": {
      "displayName": "ghosalli@ymail.com",
      "userId": "06654975647961110478"
     },
     "user_tz": 240
    },
    "id": "u_UXntAC6xZL",
    "outputId": "53d21648-dd35-45d6-e2a5-433c6f531ac7"
   },
   "outputs": [
    {
     "name": "stdout",
     "output_type": "stream",
     "text": [
      "\u001b[1m83/83\u001b[0m \u001b[32m━━━━━━━━━━━━━━━━━━━━\u001b[0m\u001b[37m\u001b[0m \u001b[1m2s\u001b[0m 22ms/step\n"
     ]
    }
   ],
   "source": [
    "# Predict using the model\n",
    "y_pred_probs_sgd = model_sgd.predict(X_test)\n",
    "y_pred_sgd = np.argmax(y_pred_probs_sgd, axis=1)"
   ]
  },
  {
   "cell_type": "code",
   "execution_count": 59,
   "metadata": {
    "colab": {
     "base_uri": "https://localhost:8080/"
    },
    "executionInfo": {
     "elapsed": 207,
     "status": "ok",
     "timestamp": 1723857818813,
     "user": {
      "displayName": "ghosalli@ymail.com",
      "userId": "06654975647961110478"
     },
     "user_tz": 240
    },
    "id": "aeL5t_XX7PWG",
    "outputId": "1570c97d-699c-4a77-e748-9a5854476d78"
   },
   "outputs": [
    {
     "name": "stdout",
     "output_type": "stream",
     "text": [
      "Confusion Matrix for SGD model:\n"
     ]
    },
    {
     "data": {
      "text/plain": [
       "array([[1307,   70],\n",
       "       [ 127, 1148]])"
      ]
     },
     "execution_count": 59,
     "metadata": {},
     "output_type": "execute_result"
    }
   ],
   "source": [
    "# Confusion Matrix for SGD Model\n",
    "conf_matrix_sgd = confusion_matrix(y_true, y_pred_sgd)\n",
    "print(\"Confusion Matrix for SGD model:\")\n",
    "#print(conf_matrix)\n",
    "conf_matrix_sgd"
   ]
  },
  {
   "cell_type": "code",
   "execution_count": 60,
   "metadata": {
    "colab": {
     "base_uri": "https://localhost:8080/"
    },
    "executionInfo": {
     "elapsed": 197,
     "status": "ok",
     "timestamp": 1723857874558,
     "user": {
      "displayName": "ghosalli@ymail.com",
      "userId": "06654975647961110478"
     },
     "user_tz": 240
    },
    "id": "XWoPkf7E7zq2",
    "outputId": "3c4675e0-129b-49b8-bc17-276ab3f66713"
   },
   "outputs": [
    {
     "name": "stdout",
     "output_type": "stream",
     "text": [
      "Classification Report:\n",
      "              precision    recall  f1-score   support\n",
      "\n",
      "           0       0.91      0.95      0.93      1377\n",
      "           1       0.94      0.90      0.92      1275\n",
      "\n",
      "    accuracy                           0.93      2652\n",
      "   macro avg       0.93      0.92      0.93      2652\n",
      "weighted avg       0.93      0.93      0.93      2652\n",
      "\n"
     ]
    }
   ],
   "source": [
    "# Classification report\n",
    "print(\"Classification Report:\")\n",
    "print(classification_report(y_true, y_pred_sgd))"
   ]
  },
  {
   "cell_type": "code",
   "execution_count": 81,
   "metadata": {
    "colab": {
     "base_uri": "https://localhost:8080/",
     "height": 428
    },
    "executionInfo": {
     "elapsed": 456,
     "status": "ok",
     "timestamp": 1723860440396,
     "user": {
      "displayName": "ghosalli@ymail.com",
      "userId": "06654975647961110478"
     },
     "user_tz": 240
    },
    "id": "PhF2VexUIv3L",
    "outputId": "c29dd773-ea3d-4617-d0b5-a5a2e2b834bc"
   },
   "outputs": [
    {
     "data": {
      "image/png": "[encoded data removed]",
      "text/plain": [
       "<Figure size 1200x400 with 2 Axes>"
      ]
     },
     "metadata": {},
     "output_type": "display_data"
    }
   ],
   "source": [
    "# for SGD Model Plot accuracy loss curves\n",
    "# Plotting Accuracy\n",
    "plt.figure(figsize=(12, 4))\n",
    "\n",
    "plt.subplot(1, 2, 1)\n",
    "plt.plot(history_sgd.history['accuracy'], label='Training Accuracy')\n",
    "plt.plot(history_sgd.history['val_accuracy'], label='Validation Accuracy')\n",
    "plt.title('Model Accuracy')\n",
    "plt.xlabel('Epochs')\n",
    "plt.ylabel('Accuracy')\n",
    "plt.legend(loc='lower right')\n",
    "\n",
    "# Plotting Loss\n",
    "plt.subplot(1, 2, 2)\n",
    "plt.plot(history_sgd.history['loss'], label='Training Loss')\n",
    "plt.plot(history_sgd.history['val_loss'], label='Validation Loss')\n",
    "plt.title('Model Loss')\n",
    "plt.xlabel('Epochs')\n",
    "plt.ylabel('Loss')\n",
    "plt.legend(loc='upper right')\n",
    "\n",
    "plt.tight_layout()\n",
    "plt.show()"
   ]
  },
  {
   "cell_type": "code",
   "execution_count": null,
   "metadata": {
    "id": "lzeLG4sl6WKh"
   },
   "outputs": [],
   "source": []
  },
  {
   "cell_type": "code",
   "execution_count": null,
   "metadata": {
    "id": "z2nHmRTIKCom"
   },
   "outputs": [],
   "source": [
    "# To load the model later to make predictions -\n",
    "from tensorflow.keras.models import load_model\n",
    "\n",
    "# Load the model\n",
    "model = load_model('saved_model/melanoma_cnn_model.h5')\n",
    "\n",
    "# Prediction for a new image data\n",
    "# Note - need to convert Image file to numpy file, convert image to floating point & normalize the file and create image_data\n",
    "prediction = model.predict(image_data)\n",
    "\n",
    "# Interpret the prediction\n",
    "if prediction[0] > 0.5:\n",
    "    print(\"Prediction is malignant.\")\n",
    "else:\n",
    "    print(\"Prediction is benign.\")"
   ]
  }
 ],
 "metadata": {
  "accelerator": "GPU",
  "colab": {
   "authorship_tag": "ABX9TyNrnbLVnU+J8V1cvcxGmRe7",
   "gpuType": "L4",
   "machine_shape": "hm",
   "provenance": []
  },
  "kernelspec": {
   "display_name": "ML_DEV",
   "language": "python",
   "name": "ml_dev"
  },
  "language_info": {
   "codemirror_mode": {
    "name": "ipython",
    "version": 3
   },
   "file_extension": ".py",
   "mimetype": "text/x-python",
   "name": "python",
   "nbconvert_exporter": "python",
   "pygments_lexer": "ipython3",
   "version": "3.10.14"
  }
 },
 "nbformat": 4,
 "nbformat_minor": 4
}
